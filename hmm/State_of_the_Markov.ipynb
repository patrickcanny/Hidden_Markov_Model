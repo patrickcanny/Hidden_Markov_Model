{
 "cells": [
  {
   "cell_type": "markdown",
   "metadata": {},
   "source": [
    "# EECS 738: Hidden Markov Models\n",
    "### Liam Ormiston & Patrick Canny\n",
    "#### Background\n",
    "We thought it would be fun to see how a Hidden Markov Model would do at generating a State of the Union Address. This is partially due to Liam's backround in Communications and speech writing in particular. "
   ]
  },
  {
   "cell_type": "code",
   "execution_count": 1,
   "metadata": {},
   "outputs": [],
   "source": [
    "import hmm, tools, combine_all, combine_pres"
   ]
  },
  {
   "cell_type": "code",
   "execution_count": 2,
   "metadata": {},
   "outputs": [],
   "source": [
    "from hmm import HMM\n",
    "initial_model = HMM('combined_all.txt')"
   ]
  },
  {
   "cell_type": "code",
   "execution_count": 3,
   "metadata": {},
   "outputs": [
    {
     "name": "stdout",
     "output_type": "stream",
     "text": [
      "Training on: combined_all.txt\n",
      "Done Training on: combined_all.txt\n"
     ]
    }
   ],
   "source": [
    "initial_model.train()"
   ]
  },
  {
   "cell_type": "code",
   "execution_count": 4,
   "metadata": {},
   "outputs": [
    {
     "name": "stdout",
     "output_type": "stream",
     "text": [
      "the children and as the wonderful addition to the united states actually and potentially hostile nations the principle that the average increases of opec oil we are 15 years to have exclusive jurisdiction it will\n",
      "are now sixteen vacancies in our revenue from customs so as to their maturity is about completed and a citizen of georgia was duly issued upon the high seas they\n",
      "adopt appropriate means for the\n",
      "shall continue to a punishment so cruel and unjust system which gives clear warning that future military aggression cannot exist unless a liberal margin of military service\n",
      "present undue and\n"
     ]
    }
   ],
   "source": [
    "initial_model.generate(5)"
   ]
  },
  {
   "cell_type": "markdown",
   "metadata": {},
   "source": [
    "Ok, so this is somewhat gibberish, but it's a good place to start!"
   ]
  },
  {
   "cell_type": "code",
   "execution_count": null,
   "metadata": {},
   "outputs": [],
   "source": []
  }
 ],
 "metadata": {
  "kernelspec": {
   "display_name": "Python 3",
   "language": "python",
   "name": "python3"
  },
  "language_info": {
   "codemirror_mode": {
    "name": "ipython",
    "version": 3
   },
   "file_extension": ".py",
   "mimetype": "text/x-python",
   "name": "python",
   "nbconvert_exporter": "python",
   "pygments_lexer": "ipython3",
   "version": "3.6.8"
  }
 },
 "nbformat": 4,
 "nbformat_minor": 2
}
